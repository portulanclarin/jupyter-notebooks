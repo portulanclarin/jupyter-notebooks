{
 "cells": [
  {
   "cell_type": "markdown",
   "source": [
    "# Example Jupyter Notebook\n",
    "\n",
    "Jupyter notebooks may contain sections (cells) with formatted text, with **bold** and *italic* passages, equations, bullet or numbered lists, hyperlinks, etc."
   ],
   "metadata": {}
  },
  {
   "cell_type": "code",
   "execution_count": 15,
   "source": [
    "# Code cells, such as this one, may be executed and the results are shown immediately below\n",
    "import requests\n",
    "request = requests.post(\n",
    "    url='https://portulanclarin.net/workbench/lx-depparser/api/',\n",
    "    json={\n",
    "        'method': 'parse',\n",
    "        'jsonrpc': '2.0',\n",
    "        'id': 0,\n",
    "        'params': {\n",
    "            'text': 'A Maria tem razão.',\n",
    "            'format': 'CONLL',\n",
    "            'tagset': 'CINTIL',\n",
    "            'key': 'REPLACE-WITH-YOUR-ACCESS-KEY'\n",
    "        },\n",
    "    },\n",
    ")\n",
    "print(request.json()['result'])"
   ],
   "outputs": [
    {
     "output_type": "stream",
     "name": "stdout",
     "text": [
      "#id\tform\tlemma\tcpos\tpos\tfeat\thead\tdeprel\tphead\tpdeprel\n",
      "1\tA\t-\tDA\tDA\tfs\t2\tSP\t2\tSP\n",
      "2\tMaria\t-\tPNM\tPNM\t-\t3\tSJ\t3\tSJ\n",
      "3\ttem\tTER\tV\tV\tpi-3s\t0\tROOT\t0\tROOT\n",
      "4\trazão\tRAZÃO\tCN\tCN\tgs\t3\tDO\t3\tDO\n",
      "5\t.\t-\tPNT\tPNT\t-\t3\tPUNCT\t3\tPUNCT\n",
      "\n",
      "\n"
     ]
    }
   ],
   "metadata": {}
  }
 ],
 "metadata": {
  "orig_nbformat": 4,
  "language_info": {
   "name": "python",
   "version": "3.7.7",
   "mimetype": "text/x-python",
   "codemirror_mode": {
    "name": "ipython",
    "version": 3
   },
   "pygments_lexer": "ipython3",
   "nbconvert_exporter": "python",
   "file_extension": ".py"
  },
  "kernelspec": {
   "name": "python3",
   "display_name": "Python 3.7.7 64-bit"
  },
  "interpreter": {
   "hash": "006d5deb8e6cdcd4312641bdf15f3bc20f0769a7305d81173599a7b40f33b4a2"
  }
 },
 "nbformat": 4,
 "nbformat_minor": 2
}