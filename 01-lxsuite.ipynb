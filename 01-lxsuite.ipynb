{
 "metadata": {
  "language_info": {
   "codemirror_mode": {
    "name": "ipython",
    "version": 3
   },
   "file_extension": ".py",
   "mimetype": "text/x-python",
   "name": "python",
   "nbconvert_exporter": "python",
   "pygments_lexer": "ipython3",
   "version": "3.7.3"
  },
  "orig_nbformat": 4,
  "kernelspec": {
   "name": "python3",
   "display_name": "Python 3.7.3 64-bit ('venv': venv)"
  },
  "interpreter": {
   "hash": "7f3698987ae828ec13c0c4ef6a27b3794d8d55365d7a7eecdb52f4505e8ed17d"
  }
 },
 "nbformat": 4,
 "nbformat_minor": 2,
 "cells": [
  {
   "source": [
    "# Using LX-Suite to annotate the CINTIL Corpus\n",
    "This is a simple example to illustrate how you can use the LX-Suite web service\n",
    "\n",
    "**Before you run this example**, replace `access_key_goes_here` by your access key, below:"
   ],
   "cell_type": "markdown",
   "metadata": {}
  },
  {
   "cell_type": "code",
   "execution_count": 13,
   "metadata": {},
   "outputs": [],
   "source": [
    "LXSUITE_WS_API_KEY = 'access_key_goes_here'\n",
    "\n",
    "LXSUITE_WS_API_URL = 'https://portulanclarin.net/workbench/lx-suite/api/'"
   ]
  },
  {
   "cell_type": "code",
   "execution_count": 5,
   "metadata": {},
   "outputs": [],
   "source": [
    "import json\n",
    "try:\n",
    "    import requests\n",
    "except:\n",
    "    !pip3 install requests\n",
    "    import requests"
   ]
  },
  {
   "cell_type": "code",
   "execution_count": 9,
   "metadata": {},
   "outputs": [],
   "source": [
    "class WSException(Exception):\n",
    "    'Webservice Exception'\n",
    "    pass"
   ]
  },
  {
   "cell_type": "code",
   "execution_count": 10,
   "metadata": {},
   "outputs": [],
   "source": [
    "def annotate(text, format='CONLL'):\n",
    "    '''\n",
    "    Arguments\n",
    "        text: a string with a maximum of 4000 characters, Portuguese text, with\n",
    "             the input to be processed\n",
    "        format: either 'CINTIL', 'CONLL' or JSON\n",
    "\n",
    "    Returns a string with the output according to specification in\n",
    "       https://portulanclarin.net/workbench/lx-suite/\n",
    "    \n",
    "    Raises a WSException if an error occurs.\n",
    "    '''\n",
    "\n",
    "    request_data = {\n",
    "        'method': 'annotate',\n",
    "        'jsonrpc': '2.0',\n",
    "        'id': 0,\n",
    "        'params': {\n",
    "            'text': text,\n",
    "            'format': format,\n",
    "            'key': LXSUITE_WS_API_KEY,\n",
    "        },\n",
    "    }\n",
    "    request = requests.post(LXSUITE_WS_API_URL, json=request_data)\n",
    "    response_data = request.json()\n",
    "    if \"error\" in response_data:\n",
    "        raise WSException(response_data[\"error\"])\n",
    "    else:\n",
    "        return response_data[\"result\"]\n"
   ]
  },
  {
   "cell_type": "code",
   "execution_count": 11,
   "metadata": {},
   "outputs": [],
   "source": [
    "def get_key_status():\n",
    "    '''Returns a string with the detailed status of the webservice of the API key'''\n",
    "    \n",
    "    request_data = {\n",
    "        'method': 'key_status',\n",
    "        'jsonrpc': '2.0',\n",
    "        'id': 0,\n",
    "        'params': {\n",
    "            'key': LXSUITE_WS_API_KEY,\n",
    "        },\n",
    "    }\n",
    "    request = requests.post(LXSUITE_WS_API_URL, json=request_data)\n",
    "    response_data = request.json()\n",
    "    if \"error\" in response_data:\n",
    "        raise WSException(response_data[\"error\"])\n",
    "    else:\n",
    "        return response_data[\"result\"]"
   ]
  },
  {
   "cell_type": "code",
   "execution_count": 15,
   "metadata": {},
   "outputs": [
    {
     "output_type": "stream",
     "name": "stdout",
     "text": [
      "#id\tform\tlemma\tcpos\tpos\tfeat\thead\tdeprel\tphead\tpdeprel\n1\tEsta\t-\tDEM\tDEM\tfs\t-\t-\t-\t-\n2\tfrase\tFRASE\tCN\tCN\tfs\t-\t-\t-\t-\n3\tserve\tSERVIR\tV\tV\tpi-3s\t-\t-\t-\t-\n4\tpara\t-\tPREP\tPREP\t-\t-\t-\t-\t-\n5\ttestar\tTESTAR\tV\tV\tINF-nInf\t-\t-\t-\t-\n6\to\t-\tDA\tDA\tms\t-\t-\t-\t-\n7\tfuncionamento\tFUNCIONAMENTO\tCN\tCN\tms\t-\t-\t-\t-\n8\tde_\t-\tPREP\tPREP\t-\t-\t-\t-\t-\n9\ta\t-\tDA\tDA\tfs\t-\t-\t-\t-\n10\tsuite\tSUITE\tCN\tCN\tfs\t-\t-\t-\t-\n11\t.\t-\tPNT\tPNT\t-\t-\t-\t-\t-\n\n\n#id\tform\tlemma\tcpos\tpos\tfeat\thead\tdeprel\tphead\tpdeprel\n1\tEsta\t-\tDEM\tDEM\tfs\t-\t-\t-\t-\n2\toutra\tOUTRO\tADJ\tADJ\tfs\t-\t-\t-\t-\n3\tfrase\tFRASE\tCN\tCN\tfs\t-\t-\t-\t-\n4\tfaz\tFAZER\tV\tV\tpi-3s\t-\t-\t-\t-\n5\to\t-\tLDEM1\tLDEM1\t-\t-\t-\t-\t-\n6\tmesmo\t-\tLDEM2\tLDEM2\t-\t-\t-\t-\t-\n7\t.\t-\tPNT\tPNT\t-\t-\t-\t-\t-\n\n\n"
     ]
    }
   ],
   "source": [
    "text = '''Esta frase serve para testar o funcionamento da suite. Esta outra\n",
    "frase faz o mesmo.'''\n",
    "result = annotate(text)\n",
    "print(result)"
   ]
  }
 ]
}