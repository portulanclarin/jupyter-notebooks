{
 "metadata": {
  "language_info": {
   "codemirror_mode": {
    "name": "ipython",
    "version": 3
   },
   "file_extension": ".py",
   "mimetype": "text/x-python",
   "name": "python",
   "nbconvert_exporter": "python",
   "pygments_lexer": "ipython3",
   "version": "3.7.3"
  },
  "orig_nbformat": 4,
  "kernelspec": {
   "name": "python3",
   "display_name": "Python 3.7.3 64-bit ('venv': venv)"
  },
  "interpreter": {
   "hash": "7f3698987ae828ec13c0c4ef6a27b3794d8d55365d7a7eecdb52f4505e8ed17d"
  }
 },
 "nbformat": 4,
 "nbformat_minor": 2,
 "cells": [
  {
   "source": [
    "# Using LX-Suite to annotate the CINTIL Corpus\n",
    "This is a simple example to illustrate how you can use the LX-Suite web service\n"
   ],
   "cell_type": "markdown",
   "metadata": {}
  },
  {
   "cell_type": "code",
   "execution_count": 1,
   "metadata": {},
   "outputs": [
    {
     "output_type": "stream",
     "name": "stdout",
     "text": [
      "Collecting requests\n",
      "\u001b[?25l  Downloading https://files.pythonhosted.org/packages/29/c1/24814557f1d22c56d50280771a17307e6bf87b70727d975fd6b2ce6b014a/requests-2.25.1-py2.py3-none-any.whl (61kB)\n",
      "\u001b[K    100% |████████████████████████████████| 61kB 1.2MB/s \n",
      "\u001b[?25hCollecting urllib3<1.27,>=1.21.1 (from requests)\n",
      "\u001b[?25l  Downloading https://files.pythonhosted.org/packages/5f/64/43575537846896abac0b15c3e5ac678d787a4021e906703f1766bfb8ea11/urllib3-1.26.6-py2.py3-none-any.whl (138kB)\n",
      "\u001b[K    100% |████████████████████████████████| 143kB 683kB/s \n",
      "\u001b[?25hCollecting idna<3,>=2.5 (from requests)\n",
      "\u001b[?25l  Downloading https://files.pythonhosted.org/packages/a2/38/928ddce2273eaa564f6f50de919327bf3a00f091b5baba8dfa9460f3a8a8/idna-2.10-py2.py3-none-any.whl (58kB)\n",
      "\u001b[K    100% |████████████████████████████████| 61kB 1.3MB/s \n",
      "\u001b[?25hCollecting certifi>=2017.4.17 (from requests)\n",
      "\u001b[?25l  Downloading https://files.pythonhosted.org/packages/05/1b/0a0dece0e8aa492a6ec9e4ad2fe366b511558cdc73fd3abc82ba7348e875/certifi-2021.5.30-py2.py3-none-any.whl (145kB)\n",
      "\u001b[K    100% |████████████████████████████████| 153kB 1.4MB/s \n",
      "\u001b[?25hCollecting chardet<5,>=3.0.2 (from requests)\n",
      "\u001b[?25l  Downloading https://files.pythonhosted.org/packages/19/c7/fa589626997dd07bd87d9269342ccb74b1720384a4d739a1872bd84fbe68/chardet-4.0.0-py2.py3-none-any.whl (178kB)\n",
      "\u001b[K    100% |████████████████████████████████| 184kB 1.4MB/s \n",
      "\u001b[?25hInstalling collected packages: urllib3, idna, certifi, chardet, requests\n",
      "Successfully installed certifi-2021.5.30 chardet-4.0.0 idna-2.10 requests-2.25.1 urllib3-1.26.6\n"
     ]
    }
   ],
   "source": [
    "!pip3 install requests"
   ]
  },
  {
   "cell_type": "code",
   "execution_count": 2,
   "metadata": {},
   "outputs": [],
   "source": [
    "import json\n",
    "import requests"
   ]
  },
  {
   "cell_type": "code",
   "execution_count": null,
   "metadata": {},
   "outputs": [],
   "source": [
    "\n",
    "# Requires: key is a string with your access key\n",
    "# Requires: text is a string, UTF-8, with a maximum 4000 characters, Portuguese text, with\n",
    "#           the input to be processed\n",
    "# Requires: format is a string, indicating the output format which can be either 'CINTIL',\n",
    "#           'CONLL' or JSON\n",
    "\n",
    "# Ensures: output according to specification in https://portulanclarin.net/workbench/lx-suite/\n",
    "# Ensures: dict with number of requests and characters input so far with the access key, and\n",
    "#          its date of expiry\n",
    "\n",
    "key = 'access_key_goes_here' # before you run this example, replace access_key_goes_here by\n",
    "                             # your access key\n",
    "\n",
    "format = 'CONLL'  # other possible values are 'CINTIL' and JSON\n",
    "\n",
    "# this string can be replaced by your input\n",
    "text = '''Esta frase serve para testar o funcionamento da suite. Esta outra\n",
    "frase faz o mesmo.'''\n",
    "\n",
    "# To read input text from a file, uncomment this block\n",
    "#inputFile = open(\"myInputFileName\", \"r\", encoding=\"utf-8\") # replace myInputFileName by\n",
    "                                                            # the name of your file\n",
    "#text = inputFile.read()\n",
    "#inputFile.close()\n",
    "\n",
    "\n",
    "# Processing:\n",
    "\n",
    "url = \"https://portulanclarin.net/workbench/lx-suite/api/\"\n",
    "request_data = {\n",
    "    'method': 'annotate',\n",
    "    'jsonrpc': '2.0',\n",
    "    'id': 0,\n",
    "    'params': {\n",
    "        'text': text,\n",
    "        'format': format,\n",
    "        'key': key,\n",
    "    },\n",
    "}\n",
    "request = requests.post(url, json=request_data)\n",
    "response_data = request.json()\n",
    "if \"error\" in response_data:\n",
    "    print(\"Error:\", response_data[\"error\"])\n",
    "else:\n",
    "    print(\"Result:\")\n",
    "    print(response_data[\"result\"])\n",
    "\n",
    "\n",
    "# To write output in a file, uncomment this block\n",
    "#outputFile = open(\"myOutputFileName\",\"w\", encoding=\"utf-8\") # replace myOutputFileName by\n",
    "                                                             # the name of your file\n",
    "#output = response_data[\"result\"]\n",
    "#outputFile.write(output)\n",
    "#outputFile.close()\n",
    "\n",
    "\n",
    "# Getting acess key status:\n",
    "\n",
    "request_data = {\n",
    "    'method': 'key_status',\n",
    "    'jsonrpc': '2.0',\n",
    "    'id': 0,\n",
    "    'params': {\n",
    "        'key': key,\n",
    "    },\n",
    "}\n",
    "request = requests.post(url, json=request_data)\n",
    "response_data = request.json()\n",
    "if \"error\" in response_data:\n",
    "    print(\"Error:\", response_data[\"error\"])\n",
    "else:\n",
    "    print(\"Key status:\")\n",
    "    print(json.dumps(response_data[\"result\"], indent=4))\n"
   ]
  }
 ]
}