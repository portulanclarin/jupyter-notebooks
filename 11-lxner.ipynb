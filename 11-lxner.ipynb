{
 "cells": [
  {
   "cell_type": "markdown",
   "metadata": {},
   "source": [
    "# Using LX-NER to make a quantitative analysis of a text\n",
    "This is an example notebook that illustrates how you can use the LX-NER web service to\n",
    "analyse a text.\n",
    "\n",
    "**Before you run this example**, replace `access_key_goes_here` by your webservice access key, below:"
   ]
  },
  {
   "cell_type": "code",
   "execution_count": 1,
   "metadata": {},
   "outputs": [],
   "source": [
    "LXNER_WS_API_KEY = 'access_key_goes_here'\n",
    "LXNER_WS_API_KEY = 'f8317243934b67ac5136026f07afef1e'\n",
    "LXNER_WS_API_URL = 'https://portulanclarin.net/workbench/lx-ner/api/'"
   ]
  },
  {
   "cell_type": "markdown",
   "metadata": {},
   "source": [
    "## Importing required Python modules\n",
    "The next cell will take care of installing the `requests` and `matplotlib` packages,\n",
    "if not already installed, and make them available to use in this notebook."
   ]
  },
  {
   "cell_type": "code",
   "execution_count": 2,
   "metadata": {},
   "outputs": [],
   "source": [
    "try:\n",
    "    import requests\n",
    "except:\n",
    "    !pip3 install requests\n",
    "    import requests\n",
    "try:\n",
    "    import matplotlib.pyplot as plt\n",
    "except:\n",
    "    !pip3 install matplotlib\n",
    "    import matplotlib.pyplot as plt\n",
    "from IPython.display import HTML, display_html"
   ]
  },
  {
   "cell_type": "markdown",
   "metadata": {},
   "source": [
    "## Wrapping the complexities of the JSON-RPC API in a simple, easy to use function\n",
    "\n",
    "The `WSException` class defined below, will be used later to identify errors\n",
    "from the webservice."
   ]
  },
  {
   "cell_type": "code",
   "execution_count": 3,
   "metadata": {},
   "outputs": [],
   "source": [
    "class WSException(Exception):\n",
    "    'Webservice Exception'\n",
    "    def __init__(self, errordata):\n",
    "        \"errordata is a dict returned by the webservice with details about the error\"\n",
    "        super().__init__(self)\n",
    "        assert isinstance(errordata, dict)\n",
    "        self.message = errordata[\"message\"]\n",
    "        # see https://json-rpc.readthedocs.io/en/latest/exceptions.html for more info\n",
    "        # about JSON-RPC error codes\n",
    "        if -32099 <= errordata[\"code\"] <= -32000:  # Server Error\n",
    "            if errordata[\"data\"][\"type\"] == \"WebServiceException\":\n",
    "                self.message += f\": {errordata['data']['message']}\"\n",
    "            else:\n",
    "                self.message += f\": {errordata['data']!r}\"\n",
    "    def __str__(self):\n",
    "        return self.message"
   ]
  },
  {
   "cell_type": "markdown",
   "metadata": {},
   "source": [
    "The next function invoques the LX-Suite webservice through it's public JSON-RPC API."
   ]
  },
  {
   "cell_type": "code",
   "execution_count": 4,
   "metadata": {},
   "outputs": [],
   "source": [
    "def recognize(text, format):\n",
    "    '''\n",
    "    Arguments\n",
    "        text: a string with a maximum of 4000 characters, Portuguese text, with\n",
    "             the input to be processed\n",
    "        format: either \"tagged\" or \"JSON\"\n",
    "\n",
    "    Returns a string or JSON object with the output according to specification in\n",
    "       https://portulanclarin.net/workbench/lx-ner/\n",
    "    \n",
    "    Raises a WSException if an error occurs.\n",
    "    '''\n",
    "\n",
    "    request_data = {\n",
    "        'method': 'recognize',\n",
    "        'jsonrpc': '2.0',\n",
    "        'id': 0,\n",
    "        'params': {\n",
    "            'text': text,\n",
    "            'format': format,\n",
    "            'key': LXNER_WS_API_KEY,\n",
    "        },\n",
    "    }\n",
    "    request = requests.post(LXNER_WS_API_URL, json=request_data)\n",
    "    response_data = request.json()\n",
    "    if \"error\" in response_data:\n",
    "        raise WSException(response_data[\"error\"])\n",
    "    else:\n",
    "        return response_data[\"result\"]"
   ]
  },
  {
   "cell_type": "markdown",
   "metadata": {},
   "source": [
    "Let's define a function to pretty print a text with recognized named entities highlighted:"
   ]
  },
  {
   "cell_type": "code",
   "execution_count": 5,
   "metadata": {},
   "outputs": [],
   "source": [
    "def print_text_with_nes(paragraphs):\n",
    "    html = []\n",
    "    for paragraph in paragraphs:\n",
    "        html.append(\"<p>\")\n",
    "        for sentence in paragraph:\n",
    "            html.append(\"<span class=\\\"sentence\\\">\")\n",
    "            within_ne = False\n",
    "            within_ne_rb = False\n",
    "            for token in sentence:\n",
    "                # ne = named entity recognized with statistical recognizer\n",
    "                # ne_rb = named entity recognized with rule-based recognizer\n",
    "                ne, ne_rb = token[\"ne\"], token[\"ne_rb\"]\n",
    "                if within_ne and not ne.startswith(\"I-\"):\n",
    "                    # close previous named entity\n",
    "                    html.append(\"</span>\")\n",
    "                if within_ne_rb and not ne_rb.startswith(\"I-\"):\n",
    "                    # close previous rule-based named entity\n",
    "                    html.append(\"</span>\")\n",
    "                if ne.startswith(\"B-\"):\n",
    "                    html.append(f'<span class=\"{ne[2:]}\">')\n",
    "                if ne_rb.startswith(\"B-\"):\n",
    "                    html.append(f'<span class=\"{ne_rb[2:]}\">')\n",
    "                html.append(token[\"form\"])\n",
    "                if \"R\" in token[\"space\"]:\n",
    "                    html.append(\" \")\n",
    "            if within_ne:\n",
    "                html.append(\"</span>\")\n",
    "            if within_ne_rb:\n",
    "                html.append(\"</span>\")\n",
    "            html.append(\"</span>\")\n",
    "        html.append(\"</p>\")\n",
    "\n",
    "    display_html(HTML(\"\".join(html)))"
   ]
  },
  {
   "cell_type": "markdown",
   "metadata": {},
   "source": [
    "Let us run the functions we just defined:"
   ]
  },
  {
   "cell_type": "code",
   "execution_count": 6,
   "metadata": {},
   "outputs": [
    {
     "data": {
      "text/plain": [
       "'<p><span class=\"sentence\">A final de_o <span class=\"ORG\">Campeonato Europeu de Futebol de <span class=\"NUMEX\">2016 realizou-se em <span class=\"TIMEX\">10 de julho de 2016 em_ o <span class=\"ORG\">Stade de France em <span class=\"LOC\">Saint-Denis, <span class=\"LOC\">França. </span><span class=\"sentence\">Foi disputada entre <span class=\"ORG\">Portugal e a França, que era a equipa anfitriã. </span><span class=\"sentence\">Os portugueses ganharam a partida e sagraram-se campeões europeus de futebol. </span><span class=\"sentence\">Esta foi a segunda participação em_<span class=\"NUMEX\">uma final de_ este campeonato para <span class=\"LOC\">Portugal e a terceira para a <span class=\"LOC\">França. </span><span class=\"sentence\">Os portugueses haviam participado anteriormente em_ as edições de <span class=\"NUMEX\">1984 e em todas as edições desde <span class=\"NUMEX\">1996. </span><span class=\"sentence\">O seu melhor resultado anterior foi em <span class=\"NUMEX\">2004, com o título de vice-campeão. </span><span class=\"sentence\">Já os franceses participaram em <span class=\"NUMEX\">1960, <span class=\"NUMEX\">1984 e em todas as edições desde <span class=\"NUMEX\">1992, tendo-se sagrado campeões em_ as edições de <span class=\"NUMEX\">1984 e de <span class=\"NUMEX\">2000. </span></p>'"
      ]
     },
     "execution_count": 6,
     "metadata": {},
     "output_type": "execute_result"
    }
   ],
   "source": [
    "text = '''\n",
    "A final do Campeonato Europeu de Futebol de 2016 realizou-se em 10 de julho de 2016 no Stade de France\n",
    "em Saint-Denis, França. Foi disputada entre Portugal e a França, que era a equipa anfitriã. Os portugueses\n",
    "ganharam a partida e sagraram-se campeões europeus de futebol. Esta foi a segunda participação numa final\n",
    "deste campeonato para Portugal e a terceira para a França. Os portugueses haviam participado anteriormente\n",
    "nas edições de 1984 e em todas as edições desde 1996. O seu melhor resultado anterior foi em 2004, com o\n",
    "título de vice-campeão. Já os franceses participaram em 1960, 1984 e em todas as edições desde 1992,\n",
    "tendo-se sagrado campeões nas edições de 1984 e de 2000.\n",
    "'''\n",
    "result = recognize(text, format=\"JSON\")\n",
    "print_text_with_nes(result)"
   ]
  },
  {
   "cell_type": "markdown",
   "metadata": {},
   "source": [
    "## Getting the status of a webservice access key"
   ]
  },
  {
   "cell_type": "code",
   "execution_count": 7,
   "metadata": {},
   "outputs": [],
   "source": [
    "def get_key_status():\n",
    "    '''Returns a string with the detailed status of the webservice access key'''\n",
    "    \n",
    "    request_data = {\n",
    "        'method': 'key_status',\n",
    "        'jsonrpc': '2.0',\n",
    "        'id': 0,\n",
    "        'params': {\n",
    "            'key': LXNER_WS_API_KEY,\n",
    "        },\n",
    "    }\n",
    "    request = requests.post(LXNER_WS_API_URL, json=request_data)\n",
    "    response_data = request.json()\n",
    "    if \"error\" in response_data:\n",
    "        raise WSException(response_data[\"error\"])\n",
    "    else:\n",
    "        return response_data[\"result\"]"
   ]
  },
  {
   "cell_type": "code",
   "execution_count": 8,
   "metadata": {},
   "outputs": [
    {
     "data": {
      "text/plain": [
       "{'requests_remaining': 99999995,\n",
       " 'chars_remaining': 999998357,\n",
       " 'expiry': '2030-01-10T00:00+00:00'}"
      ]
     },
     "execution_count": 8,
     "metadata": {},
     "output_type": "execute_result"
    }
   ],
   "source": [
    "get_key_status()"
   ]
  }
 ],
 "metadata": {
  "interpreter": {
   "hash": "006d5deb8e6cdcd4312641bdf15f3bc20f0769a7305d81173599a7b40f33b4a2"
  },
  "kernelspec": {
   "display_name": "Python 3.7.7 64-bit",
   "name": "python3"
  },
  "language_info": {
   "codemirror_mode": {
    "name": "ipython",
    "version": 3
   },
   "file_extension": ".py",
   "mimetype": "text/x-python",
   "name": "python",
   "nbconvert_exporter": "python",
   "pygments_lexer": "ipython3",
   "version": "3.7.7"
  }
 },
 "nbformat": 4,
 "nbformat_minor": 2
}
