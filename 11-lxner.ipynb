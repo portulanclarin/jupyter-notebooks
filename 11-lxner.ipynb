{
 "cells": [
  {
   "cell_type": "markdown",
   "metadata": {},
   "source": [
    "# Using LX-NER to make a quantitative analysis of a text\n",
    "This is an example notebook that illustrates how you can use the LX-NER web service to\n",
    "analyse a text.\n",
    "\n",
    "**Before you run this example**, replace `access_key_goes_here` by your webservice access key, below:"
   ]
  },
  {
   "cell_type": "code",
   "execution_count": 1,
   "metadata": {},
   "outputs": [],
   "source": [
    "LXNER_WS_API_KEY = 'access_key_goes_here'\n",
    "LXNER_WS_API_URL = 'https://portulanclarin.net/workbench/lx-ner/api/'"
   ]
  },
  {
   "cell_type": "markdown",
   "metadata": {},
   "source": [
    "## Importing required Python modules\n",
    "The next cell will take care of installing the `requests` package,\n",
    "if not already installed, and make it available to use in this notebook."
   ]
  },
  {
   "cell_type": "code",
   "execution_count": 2,
   "metadata": {},
   "outputs": [],
   "source": [
    "try:\n",
    "    import requests\n",
    "except:\n",
    "    !pip3 install requests\n",
    "    import requests\n",
    "from IPython.display import HTML, display_html"
   ]
  },
  {
   "cell_type": "markdown",
   "metadata": {},
   "source": [
    "## Wrapping the complexities of the JSON-RPC API in a simple, easy to use function\n",
    "\n",
    "The `WSException` class defined below, will be used later to identify errors\n",
    "from the webservice."
   ]
  },
  {
   "cell_type": "code",
   "execution_count": 3,
   "metadata": {},
   "outputs": [],
   "source": [
    "class WSException(Exception):\n",
    "    'Webservice Exception'\n",
    "    def __init__(self, errordata):\n",
    "        \"errordata is a dict returned by the webservice with details about the error\"\n",
    "        super().__init__(self)\n",
    "        assert isinstance(errordata, dict)\n",
    "        self.message = errordata[\"message\"]\n",
    "        # see https://json-rpc.readthedocs.io/en/latest/exceptions.html for more info\n",
    "        # about JSON-RPC error codes\n",
    "        if -32099 <= errordata[\"code\"] <= -32000:  # Server Error\n",
    "            if errordata[\"data\"][\"type\"] == \"WebServiceException\":\n",
    "                self.message += f\": {errordata['data']['message']}\"\n",
    "            else:\n",
    "                self.message += f\": {errordata['data']!r}\"\n",
    "    def __str__(self):\n",
    "        return self.message"
   ]
  },
  {
   "cell_type": "markdown",
   "metadata": {},
   "source": [
    "The next function invoques the LX-Suite webservice through it's public JSON-RPC API."
   ]
  },
  {
   "cell_type": "code",
   "execution_count": 4,
   "metadata": {},
   "outputs": [],
   "source": [
    "def recognize(text, format):\n",
    "    '''\n",
    "    Arguments\n",
    "        text: a string with a maximum of 4000 characters, Portuguese text, with\n",
    "             the input to be processed\n",
    "        format: either \"tagged\" or \"JSON\"\n",
    "\n",
    "    Returns a string or JSON object with the output according to specification in\n",
    "       https://portulanclarin.net/workbench/lx-ner/\n",
    "    \n",
    "    Raises a WSException if an error occurs.\n",
    "    '''\n",
    "\n",
    "    request_data = {\n",
    "        'method': 'recognize',\n",
    "        'jsonrpc': '2.0',\n",
    "        'id': 0,\n",
    "        'params': {\n",
    "            'text': text,\n",
    "            'format': format,\n",
    "            'key': LXNER_WS_API_KEY,\n",
    "        },\n",
    "    }\n",
    "    request = requests.post(LXNER_WS_API_URL, json=request_data)\n",
    "    response_data = request.json()\n",
    "    if \"error\" in response_data:\n",
    "        raise WSException(response_data[\"error\"])\n",
    "    else:\n",
    "        return response_data[\"result\"]"
   ]
  },
  {
   "cell_type": "markdown",
   "metadata": {},
   "source": [
    "## Highlighting recognized entities\n",
    "Let's define a function to pretty print a text with recognized named entities highlighted:"
   ]
  },
  {
   "cell_type": "code",
   "execution_count": 5,
   "metadata": {},
   "outputs": [],
   "source": [
    "def print_text_with_nes(paragraphs):\n",
    "    html = [\"<div class=\\\"ner-output\\\">\"]\n",
    "    for paragraph in paragraphs:\n",
    "        html.append(\"<p>\")\n",
    "        for sentence in paragraph:\n",
    "            html.append(\"<span class=\\\"sentence\\\">\")\n",
    "            within_ne = False\n",
    "            within_ne_rb = False\n",
    "            for token in sentence:\n",
    "                # ne = named entity recognized with statistical recognizer\n",
    "                # ne_rb = named entity recognized with rule-based recognizer\n",
    "                ne, ne_rb = token[\"ne\"], token[\"ne_rb\"]\n",
    "                if within_ne and not ne.startswith(\"I-\"):\n",
    "                    # close previous named entity\n",
    "                    html.append(\"</span>\")\n",
    "                if within_ne_rb and not ne_rb.startswith(\"I-\"):\n",
    "                    # close previous rule-based named entity\n",
    "                    html.append(\"</span>\")\n",
    "                if ne.startswith(\"B-\"):\n",
    "                    html.append(f'<span class=\"ne {ne[2:].lower()}\">')\n",
    "                    within_ne = True\n",
    "                if ne_rb.startswith(\"B-\"):\n",
    "                    html.append(f'<span class=\"ne {ne_rb[2:].lower()}\">')\n",
    "                    within_ne_rb = True\n",
    "                html.append(token[\"form\"])\n",
    "                if \"R\" in token[\"space\"]:\n",
    "                    html.append(\" \")\n",
    "            if within_ne:\n",
    "                html.append(\"</span>\")\n",
    "            if within_ne_rb:\n",
    "                html.append(\"</span>\")\n",
    "            html.append(\"</span>\")\n",
    "        html.append(\"</p>\")\n",
    "    display_html(HTML(\"\".join(html)))"
   ]
  },
  {
   "cell_type": "markdown",
   "metadata": {},
   "source": [
    "Le's define a set of CSS rules for color-coding recognized named entities:"
   ]
  },
  {
   "cell_type": "code",
   "execution_count": 6,
   "metadata": {},
   "outputs": [
    {
     "data": {
      "text/html": [
       "<style>\n",
       ".ne {\n",
       "    color: #000;\n",
       "    background-color: #eee;\n",
       "    margin: 3px;\n",
       "    padding: 3px 5px;\n",
       "    border-radius: 3px;\n",
       "    cursor: help;\n",
       "    font-weight: bold;\n",
       "}\n",
       ".ne.numex { color: brown; }\n",
       ".ne.measex { color: blue; }\n",
       ".ne.timex { color: green; }\n",
       ".ne.addrex { color: red; }\n",
       ".ne.per { color: brown; }\n",
       ".ne.org { color: blue; }\n",
       ".ne.loc { color: green; }\n",
       ".ne.evt { color: red; }\n",
       ".ne.wrk { color: purple; }\n",
       ".ne.msc { color: orchid; }\n",
       ".reference {\n",
       "    float: left;\n",
       "    padding: 16px;\n",
       "    border: 1px dotted #aaa;\n",
       "}\n",
       "</style>\n"
      ]
     },
     "metadata": {},
     "output_type": "display_data"
    }
   ],
   "source": [
    "display_html(HTML(\"\"\"<style>\n",
    ".ne {\n",
    "    color: #000;\n",
    "    background-color: #eee;\n",
    "    margin: 3px;\n",
    "    padding: 3px 5px;\n",
    "    border-radius: 3px;\n",
    "    font-weight: bold;\n",
    "}\n",
    ".ne.numex { color: brown; }\n",
    ".ne.measex { color: blue; }\n",
    ".ne.timex { color: green; }\n",
    ".ne.addrex { color: red; }\n",
    ".ne.per { color: brown; }\n",
    ".ne.org { color: blue; }\n",
    ".ne.loc { color: green; }\n",
    ".ne.evt { color: red; }\n",
    ".ne.wrk { color: purple; }\n",
    ".ne.msc { color: orchid; }\n",
    ".reference {\n",
    "    float: left;\n",
    "    padding: 16px;\n",
    "    border: 1px dotted #aaa;\n",
    "}\n",
    "</style>\n",
    "\"\"\"))"
   ]
  },
  {
   "cell_type": "markdown",
   "metadata": {},
   "source": [
    "The next function will print a reference for the color-coded higlighting of named entities:"
   ]
  },
  {
   "cell_type": "code",
   "execution_count": 7,
   "metadata": {},
   "outputs": [
    {
     "data": {
      "text/html": [
       "\n",
       "    <p class=\"reference\">Color coding for recognized named entities:\n",
       "    <span class=\"ne numex\">number</span>\n",
       "    <span class=\"ne measex\">measure</span>\n",
       "    <span class=\"ne timex\">time</span>\n",
       "    <span class=\"ne addrex\">address</span>\n",
       "    <span class=\"ne per\">person</span>\n",
       "    <span class=\"ne org\">organization</span>\n",
       "    <span class=\"ne loc\">location</span>\n",
       "    <span class=\"ne evt\">event</span>\n",
       "    <span class=\"ne wrk\">work</span>\n",
       "    <span class=\"ne msc\">miscellaneous</span>\n",
       "    </p>\n",
       "    "
      ]
     },
     "metadata": {},
     "output_type": "display_data"
    }
   ],
   "source": [
    "def print_color_reference():\n",
    "    display_html(HTML(\"\"\"\n",
    "    <p class=\"reference\">Color coding for recognized named entities:\n",
    "    <span class=\"ne numex\">number</span>\n",
    "    <span class=\"ne measex\">measure</span>\n",
    "    <span class=\"ne timex\">time</span>\n",
    "    <span class=\"ne addrex\">address</span>\n",
    "    <span class=\"ne per\">person</span>\n",
    "    <span class=\"ne org\">organization</span>\n",
    "    <span class=\"ne loc\">location</span>\n",
    "    <span class=\"ne evt\">event</span>\n",
    "    <span class=\"ne wrk\">work</span>\n",
    "    <span class=\"ne msc\">miscellaneous</span>\n",
    "    </p>\n",
    "    \"\"\"))\n",
    "\n",
    "print_color_reference()"
   ]
  },
  {
   "cell_type": "markdown",
   "metadata": {},
   "source": [
    "Next, we will use the functions we defined above for recognizing named entites, pretty-printing them as HTML and finally we also print a reference for the color-coded highlighting:"
   ]
  },
  {
   "cell_type": "code",
   "execution_count": 8,
   "metadata": {},
   "outputs": [
    {
     "data": {
      "text/html": [
       "<div class=\"ner-output\"><p><span class=\"sentence\">A final de_o <span class=\"ne org\">Campeonato Europeu de Futebol </span>de </span><span class=\"ne numex\">2016 </span></span>realizou</span></span>-se </span></span>em </span></span><span class=\"ne timex\">10 </span>de </span>julho </span>de </span>2016 </span></span>em_ </span></span>o </span></span><span class=\"ne org\">Stade </span>de </span>France </span></span>em </span></span><span class=\"ne loc\">Saint-Denis</span></span>, </span></span><span class=\"ne loc\">França</span></span>. </span></span></span><span class=\"sentence\">Foi disputada entre <span class=\"ne org\">Portugal e a França</span>, </span>que </span>era </span>a </span>equipa </span>anfitriã</span>. </span></span><span class=\"sentence\">Os portugueses ganharam a partida e sagraram-se campeões europeus de futebol. </span><span class=\"sentence\">Esta foi a segunda participação em_<span class=\"ne numex\">uma </span>final </span>de_ </span>este </span>campeonato </span>para </span><span class=\"ne loc\">Portugal </span></span>e </span></span>a </span></span>terceira </span></span>para </span></span>a </span></span><span class=\"ne loc\">França</span></span>. </span></span></span><span class=\"sentence\">Os portugueses haviam participado anteriormente em_ as edições de <span class=\"ne numex\">1984 </span>e </span>em </span>todas </span>as </span>edições </span>desde </span><span class=\"ne numex\">1996</span>. </span></span><span class=\"sentence\">O seu melhor resultado anterior foi em <span class=\"ne numex\">2004</span>, </span>com </span>o </span>título </span>de </span>vice-campeão</span>. </span></span><span class=\"sentence\">Já os franceses participaram em <span class=\"ne numex\">1960</span>, </span><span class=\"ne numex\">1984 </span>e </span>em </span>todas </span>as </span>edições </span>desde </span><span class=\"ne numex\">1992</span>, </span>tendo</span>-se </span>sagrado </span>campeões </span>em_ </span>as </span>edições </span>de </span><span class=\"ne numex\">1984 </span>e </span>de </span><span class=\"ne numex\">2000</span>. </span></span></p>"
      ]
     },
     "metadata": {},
     "output_type": "display_data"
    },
    {
     "data": {
      "text/html": [
       "\n",
       "    <p class=\"reference\">Color coding for recognized named entities:\n",
       "    <span class=\"ne numex\">number</span>\n",
       "    <span class=\"ne measex\">measure</span>\n",
       "    <span class=\"ne timex\">time</span>\n",
       "    <span class=\"ne addrex\">address</span>\n",
       "    <span class=\"ne per\">person</span>\n",
       "    <span class=\"ne org\">organization</span>\n",
       "    <span class=\"ne loc\">location</span>\n",
       "    <span class=\"ne evt\">event</span>\n",
       "    <span class=\"ne wrk\">work</span>\n",
       "    <span class=\"ne msc\">miscellaneous</span>\n",
       "    </p>\n",
       "    "
      ]
     },
     "metadata": {},
     "output_type": "display_data"
    }
   ],
   "source": [
    "text = '''\n",
    "A final do Campeonato Europeu de Futebol de 2016 realizou-se em 10 de julho de 2016 no Stade de France\n",
    "em Saint-Denis, França. Foi disputada entre Portugal e a França, que era a equipa anfitriã. Os portugueses\n",
    "ganharam a partida e sagraram-se campeões europeus de futebol. Esta foi a segunda participação numa final\n",
    "deste campeonato para Portugal e a terceira para a França. Os portugueses haviam participado anteriormente\n",
    "nas edições de 1984 e em todas as edições desde 1996. O seu melhor resultado anterior foi em 2004, com o\n",
    "título de vice-campeão. Já os franceses participaram em 1960, 1984 e em todas as edições desde 1992,\n",
    "tendo-se sagrado campeões nas edições de 1984 e de 2000.\n",
    "'''\n",
    "result = recognize(text, format=\"JSON\")\n",
    "print_text_with_nes(result)\n",
    "print_color_reference()"
   ]
  },
  {
   "cell_type": "markdown",
   "metadata": {},
   "source": [
    "## Getting the status of a webservice access key"
   ]
  },
  {
   "cell_type": "code",
   "execution_count": 9,
   "metadata": {},
   "outputs": [],
   "source": [
    "def get_key_status():\n",
    "    '''Returns a string with the detailed status of the webservice access key'''\n",
    "    \n",
    "    request_data = {\n",
    "        'method': 'key_status',\n",
    "        'jsonrpc': '2.0',\n",
    "        'id': 0,\n",
    "        'params': {\n",
    "            'key': LXNER_WS_API_KEY,\n",
    "        },\n",
    "    }\n",
    "    request = requests.post(LXNER_WS_API_URL, json=request_data)\n",
    "    response_data = request.json()\n",
    "    if \"error\" in response_data:\n",
    "        raise WSException(response_data[\"error\"])\n",
    "    else:\n",
    "        return response_data[\"result\"]"
   ]
  },
  {
   "cell_type": "code",
   "execution_count": 10,
   "metadata": {},
   "outputs": [
    {
     "data": {
      "text/plain": [
       "{'requests_remaining': 99999982,\n",
       " 'chars_remaining': 999989426,\n",
       " 'expiry': '2030-01-10T00:00+00:00'}"
      ]
     },
     "execution_count": 10,
     "metadata": {},
     "output_type": "execute_result"
    }
   ],
   "source": [
    "get_key_status()"
   ]
  }
 ],
 "metadata": {
  "interpreter": {
   "hash": "006d5deb8e6cdcd4312641bdf15f3bc20f0769a7305d81173599a7b40f33b4a2"
  },
  "kernelspec": {
   "display_name": "Python 3.7.7 64-bit",
   "name": "python3"
  },
  "language_info": {
   "codemirror_mode": {
    "name": "ipython",
    "version": 3
   },
   "file_extension": ".py",
   "mimetype": "text/x-python",
   "name": "python",
   "nbconvert_exporter": "python",
   "pygments_lexer": "ipython3",
   "version": "3.7.7"
  }
 },
 "nbformat": 4,
 "nbformat_minor": 2
}
