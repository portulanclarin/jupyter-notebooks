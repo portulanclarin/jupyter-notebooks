{
 "cells": [
  {
   "cell_type": "markdown",
   "metadata": {},
   "source": [
    "# Using LX-Quantitative to make a quantitative analysis of a text\n",
    "This is an example notebook that illustrates how you can use the LX-Quantitative web service to\n",
    "analyse a text.\n",
    "\n",
    "**Before you run this example**, replace `access_key_goes_here` by your webservice access key, below:"
   ]
  },
  {
   "cell_type": "code",
   "execution_count": 1,
   "metadata": {},
   "outputs": [],
   "source": [
    "LXQUANTITATIVE_WS_API_KEY = 'access_key_goes_here'\n",
    "LXQUANTITATIVE_WS_API_URL = 'https://portulanclarin.net/workbench/lx-quantitative/api/'"
   ]
  },
  {
   "cell_type": "markdown",
   "metadata": {},
   "source": [
    "## Importing required Python modules\n",
    "The next cell will take care of installing the `requests` and `matplotlib` packages,\n",
    "if not already installed, and make them available to use in this notebook."
   ]
  },
  {
   "cell_type": "code",
   "execution_count": 2,
   "metadata": {},
   "outputs": [],
   "source": [
    "try:\n",
    "    import requests\n",
    "except:\n",
    "    !pip3 install requests\n",
    "    import requests\n",
    "try:\n",
    "    import matplotlib.pyplot as plt\n",
    "except:\n",
    "    !pip3 install matplotlib\n",
    "    import matplotlib.pyplot as plt\n",
    "from IPython.display import HTML, display_html"
   ]
  },
  {
   "cell_type": "markdown",
   "metadata": {},
   "source": [
    "## Wrapping the complexities of the JSON-RPC API in a simple, easy to use function\n",
    "\n",
    "The `WSException` class defined below, will be used later to identify errors\n",
    "from the webservice."
   ]
  },
  {
   "cell_type": "code",
   "execution_count": 3,
   "metadata": {},
   "outputs": [],
   "source": [
    "class WSException(Exception):\n",
    "    'Webservice Exception'\n",
    "    def __init__(self, errordata):\n",
    "        \"errordata is a dict returned by the webservice with details about the error\"\n",
    "        super().__init__(self)\n",
    "        assert isinstance(errordata, dict)\n",
    "        self.message = errordata[\"message\"]\n",
    "        # see https://json-rpc.readthedocs.io/en/latest/exceptions.html for more info\n",
    "        # about JSON-RPC error codes\n",
    "        if -32099 <= errordata[\"code\"] <= -32000:  # Server Error\n",
    "            if errordata[\"data\"][\"type\"] == \"WebServiceException\":\n",
    "                self.message += f\": {errordata['data']['message']}\"\n",
    "            else:\n",
    "                self.message += f\": {errordata['data']!r}\"\n",
    "    def __str__(self):\n",
    "        return self.message"
   ]
  },
  {
   "cell_type": "markdown",
   "metadata": {},
   "source": [
    "The next function invoques the LX-Suite webservice through it's public JSON-RPC API."
   ]
  },
  {
   "cell_type": "code",
   "execution_count": 4,
   "metadata": {},
   "outputs": [],
   "source": [
    "def analyse(text, format):\n",
    "    '''\n",
    "    Arguments\n",
    "        text: a string with a maximum of 2000 characters, Portuguese text, with\n",
    "             the input to be processed\n",
    "        format: either \"text\" or \"JSON\"\n",
    "\n",
    "    Returns a string or JSON object with the output according to specification in\n",
    "       https://portulanclarin.net/workbench/lx-quantitative/\n",
    "    \n",
    "    Raises a WSException if an error occurs.\n",
    "    '''\n",
    "\n",
    "    request_data = {\n",
    "        'method': 'analyse',\n",
    "        'jsonrpc': '2.0',\n",
    "        'id': 0,\n",
    "        'params': {\n",
    "            'text': text,\n",
    "            'format': format,\n",
    "            'key': LXQUANTITATIVE_WS_API_KEY,\n",
    "        },\n",
    "    }\n",
    "    request = requests.post(LXQUANTITATIVE_WS_API_URL, json=request_data)\n",
    "    response_data = request.json()\n",
    "    if \"error\" in response_data:\n",
    "        raise WSException(response_data[\"error\"])\n",
    "    else:\n",
    "        return response_data[\"result\"]"
   ]
  },
  {
   "cell_type": "markdown",
   "metadata": {},
   "source": [
    "Let us run the function we just defined:"
   ]
  },
  {
   "cell_type": "code",
   "execution_count": 5,
   "metadata": {},
   "outputs": [],
   "source": [
    "text = '''\n",
    "A final do Campeonato Europeu de Futebol de 2016 realizou-se em 10 de julho de 2016 no Stade de France\n",
    "em Saint-Denis, França. Foi disputada entre Portugal e a França, que era a equipa anfitriã. Os portugueses\n",
    "ganharam a partida e sagraram-se campeões europeus de futebol. Esta foi a segunda participação numa final\n",
    "deste campeonato para Portugal e a terceira para a França. Os portugueses haviam participado anteriormente\n",
    "nas edições de 1984 e em todas as edições desde 1996. O seu melhor resultado anterior foi em 2004, com o\n",
    "título de vice-campeão. Já os franceses participaram em 1960, 1984 e em todas as edições desde 1992,\n",
    "tendo-se sagrado campeões nas edições de 1984 e de 2000.\n",
    "'''\n",
    "result = analyse(text, format=\"JSON\")"
   ]
  },
  {
   "cell_type": "markdown",
   "metadata": {},
   "source": [
    "Let's display the result which is a `dict`.  Most values of this dictionary are numeric (`int` or `float`) but there is one which is itself a dict, which we will handle furhter ahead."
   ]
  },
  {
   "cell_type": "code",
   "execution_count": 6,
   "metadata": {},
   "outputs": [
    {
     "name": "stdout",
     "output_type": "stream",
     "text": [
      "coordenatives: 6\n",
      "flesch: 24.25\n",
      "letters: 559\n",
      "letters in word average: 4.472\n",
      "passive: 0.00%\n",
      "passives: 0\n",
      "phrases: 11\n",
      "sentences: 7\n",
      "subordinatives: 1\n",
      "subordinatives: 9.09%\n",
      "syllables: 243\n",
      "syllables in word average: 1.944\n",
      "unique tokens: 52.00%\n",
      "words: 125\n",
      "words in sentence average: 17.86\n"
     ]
    }
   ],
   "source": [
    "for key, value in sorted(result.items()):\n",
    "    key = key.replace(\"_\", \" \")\n",
    "    if key.endswith(\" percentage\"):\n",
    "        key = key.replace(\" percentage\", \"\")\n",
    "        print(f\"{key}: {value:.02f}%\")\n",
    "    elif isinstance(value, float):\n",
    "        print(f\"{key}: {value:.04}\")\n",
    "    elif isinstance(value, int):\n",
    "        print(f\"{key}: {value}\")\n",
    "    #else:\n",
    "    #    print(f\"{key}: {value!r}\")"
   ]
  },
  {
   "cell_type": "markdown",
   "metadata": {},
   "source": [
    "Let us use the `matplotlib` for displaying a lexical density pie chart from the `dict` associated with key `\"lexical_density\"`:"
   ]
  },
  {
   "cell_type": "code",
   "execution_count": 7,
   "metadata": {},
   "outputs": [
    {
     "data": {
      "image/png": "[encoded data removed]",
      "text/plain": [
       "<Figure size 576x576 with 1 Axes>"
      ]
     },
     "metadata": {},
     "output_type": "display_data"
    }
   ],
   "source": [
    "%matplotlib inline\n",
    "\n",
    "# counts = {\n",
    "#     cls.replace(\"_count\", \"\").replace(\"_\", \" \"): count\n",
    "#     for cls, count in result[\"lexical_density\"].items()\n",
    "#     if cls.endswith(\"_count\")\n",
    "# }\n",
    "percentages = {\n",
    "    cls.replace(\"_percentage\", \"\").replace(\"_\", \" \"): percentage\n",
    "    for cls, percentage in result[\"lexical_density\"].items()\n",
    "    if cls.endswith(\"_percentage\")\n",
    "}\n",
    "total = sum(percentages.values())\n",
    "if total < 100.0:\n",
    "    percentages[\"other\"] = 100.0 - total\n",
    "labels = list(percentages.keys())\n",
    "xs = [percentages[label] for label in labels]\n",
    "\n",
    "plt.rcParams['figure.figsize'] = [8, 8]\n",
    "fig1, ax1 = plt.subplots()\n",
    "ax1.pie(xs, labels=labels, autopct='%1.1f%%', startangle=90)\n",
    "ax1.axis('equal')  # equal aspect ratio ensures that pie is drawn as a circle.\n",
    "\n",
    "plt.show()\n",
    "# To learn more about matplotlib visit https://matplotlib.org/"
   ]
  },
  {
   "cell_type": "markdown",
   "metadata": {},
   "source": [
    "Let us print a table with word frequencies:"
   ]
  },
  {
   "cell_type": "code",
   "execution_count": 8,
   "metadata": {},
   "outputs": [
    {
     "data": {
      "text/html": [
       "<table>\n",
       "<thead>\n",
       "<tr><th>Word</th><th>Frequency</th></tr>\n",
       "</thead>\n",
       "</tbody>\n",
       "<tr><td>de</td><td>12</td></tr>\n",
       "<tr><td>em</td><td>10</td></tr>\n",
       "<tr><td>a</td><td>7</td></tr>\n",
       "<tr><td>e</td><td>6</td></tr>\n",
       "<tr><td>as</td><td>4</td></tr>\n",
       "<tr><td>edições</td><td>4</td></tr>\n",
       "<tr><td>o</td><td>4</td></tr>\n",
       "<tr><td>1984</td><td>3</td></tr>\n",
       "<tr><td>foi</td><td>3</td></tr>\n",
       "<tr><td>frança</td><td>3</td></tr>\n",
       "<tr><td>os</td><td>3</td></tr>\n",
       "<tr><td>se</td><td>3</td></tr>\n",
       "<tr><td>2016</td><td>2</td></tr>\n",
       "<tr><td>campeonato</td><td>2</td></tr>\n",
       "<tr><td>campeões</td><td>2</td></tr>\n",
       "<tr><td>desde</td><td>2</td></tr>\n",
       "<tr><td>final</td><td>2</td></tr>\n",
       "<tr><td>futebol</td><td>2</td></tr>\n",
       "<tr><td>para</td><td>2</td></tr>\n",
       "<tr><td>portugal</td><td>2</td></tr>\n",
       "<tr><td>portugueses</td><td>2</td></tr>\n",
       "<tr><td>todas</td><td>2</td></tr>\n",
       "<tr><td>10</td><td>1</td></tr>\n",
       "<tr><td>1960</td><td>1</td></tr>\n",
       "<tr><td>1992</td><td>1</td></tr>\n",
       "<tr><td>1996</td><td>1</td></tr>\n",
       "<tr><td>2000</td><td>1</td></tr>\n",
       "<tr><td>2004</td><td>1</td></tr>\n",
       "<tr><td>anfitriã</td><td>1</td></tr>\n",
       "<tr><td>anterior</td><td>1</td></tr>\n",
       "<tr><td>anteriormente</td><td>1</td></tr>\n",
       "<tr><td>com</td><td>1</td></tr>\n",
       "<tr><td>disputada</td><td>1</td></tr>\n",
       "<tr><td>entre</td><td>1</td></tr>\n",
       "<tr><td>equipa</td><td>1</td></tr>\n",
       "<tr><td>era</td><td>1</td></tr>\n",
       "<tr><td>esta</td><td>1</td></tr>\n",
       "<tr><td>este</td><td>1</td></tr>\n",
       "<tr><td>europeu</td><td>1</td></tr>\n",
       "<tr><td>europeus</td><td>1</td></tr>\n",
       "<tr><td>france</td><td>1</td></tr>\n",
       "<tr><td>franceses</td><td>1</td></tr>\n",
       "<tr><td>ganharam</td><td>1</td></tr>\n",
       "<tr><td>haviam</td><td>1</td></tr>\n",
       "<tr><td>julho</td><td>1</td></tr>\n",
       "<tr><td>já</td><td>1</td></tr>\n",
       "<tr><td>melhor</td><td>1</td></tr>\n",
       "<tr><td>participado</td><td>1</td></tr>\n",
       "<tr><td>participaram</td><td>1</td></tr>\n",
       "<tr><td>participação</td><td>1</td></tr>\n",
       "<tr><td>partida</td><td>1</td></tr>\n",
       "<tr><td>que</td><td>1</td></tr>\n",
       "<tr><td>realizou</td><td>1</td></tr>\n",
       "<tr><td>resultado</td><td>1</td></tr>\n",
       "<tr><td>sagrado</td><td>1</td></tr>\n",
       "<tr><td>sagraram</td><td>1</td></tr>\n",
       "<tr><td>saintdenis</td><td>1</td></tr>\n",
       "<tr><td>segunda</td><td>1</td></tr>\n",
       "<tr><td>seu</td><td>1</td></tr>\n",
       "<tr><td>stade</td><td>1</td></tr>\n",
       "<tr><td>tendo</td><td>1</td></tr>\n",
       "<tr><td>terceira</td><td>1</td></tr>\n",
       "<tr><td>título</td><td>1</td></tr>\n",
       "<tr><td>uma</td><td>1</td></tr>\n",
       "<tr><td>vicecampeão</td><td>1</td></tr>\n",
       "</tbody>\n",
       "</table>"
      ]
     },
     "metadata": {},
     "output_type": "display_data"
    }
   ],
   "source": [
    "html = [\n",
    "    \"<table>\",\n",
    "    \"<thead>\",\n",
    "    \"<tr><th>Word</th><th>Frequency</th></tr>\",\n",
    "    \"</thead>\",\n",
    "    \"</tbody>\",\n",
    "]\n",
    "for word, freq in result[\"tokens_freq\"]:\n",
    "    html.append(f\"<tr><td>{word}</td><td>{freq}</td></tr>\")\n",
    "html.append(\"</tbody>\")\n",
    "html.append(\"</table>\")\n",
    "display_html(HTML(\"\\n\".join(html)))"
   ]
  },
  {
   "cell_type": "markdown",
   "metadata": {},
   "source": [
    "## Getting the status of a webservice access key"
   ]
  },
  {
   "cell_type": "code",
   "execution_count": 9,
   "metadata": {},
   "outputs": [],
   "source": [
    "def get_key_status():\n",
    "    '''Returns a string with the detailed status of the webservice access key'''\n",
    "    \n",
    "    request_data = {\n",
    "        'method': 'key_status',\n",
    "        'jsonrpc': '2.0',\n",
    "        'id': 0,\n",
    "        'params': {\n",
    "            'key': LXQUANTITATIVE_WS_API_KEY,\n",
    "        },\n",
    "    }\n",
    "    request = requests.post(LXQUANTITATIVE_WS_API_URL, json=request_data)\n",
    "    response_data = request.json()\n",
    "    if \"error\" in response_data:\n",
    "        raise WSException(response_data[\"error\"])\n",
    "    else:\n",
    "        return response_data[\"result\"]"
   ]
  },
  {
   "cell_type": "code",
   "execution_count": 10,
   "metadata": {},
   "outputs": [
    {
     "data": {
      "text/plain": [
       "{'requests_remaining': 99999992,\n",
       " 'chars_remaining': 999995190,\n",
       " 'expiry': '2030-01-10T00:00+00:00'}"
      ]
     },
     "execution_count": 10,
     "metadata": {},
     "output_type": "execute_result"
    }
   ],
   "source": [
    "get_key_status()"
   ]
  }
 ],
 "metadata": {
  "interpreter": {
   "hash": "006d5deb8e6cdcd4312641bdf15f3bc20f0769a7305d81173599a7b40f33b4a2"
  },
  "kernelspec": {
   "display_name": "Python 3.7.7 64-bit",
   "name": "python3"
  },
  "language_info": {
   "codemirror_mode": {
    "name": "ipython",
    "version": 3
   },
   "file_extension": ".py",
   "mimetype": "text/x-python",
   "name": "python",
   "nbconvert_exporter": "python",
   "pygments_lexer": "ipython3",
   "version": "3.7.7"
  }
 },
 "nbformat": 4,
 "nbformat_minor": 2
}
