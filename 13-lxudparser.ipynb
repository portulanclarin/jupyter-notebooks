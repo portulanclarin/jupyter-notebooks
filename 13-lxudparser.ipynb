{
 "cells": [
  {
   "cell_type": "markdown",
   "metadata": {},
   "source": [
    "# Using LX-UDParser to parse sentences and displaying dependency tree graphs\n",
    "This is an example notebook that illustrates how you can use the LX-UDParser web service to parse\n",
    "sentences and how to visualize dependency tree graphs in a notebook.\n",
    "\n",
    "**Before you run this example**, replace `access_key_goes_here` by your webservice access key, below:"
   ]
  },
  {
   "cell_type": "code",
   "execution_count": 1,
   "metadata": {},
   "outputs": [],
   "source": [
    "LXUDPARSER_WS_API_KEY = 'access_key_goes_here'\n",
    "LXUDPARSER_WS_API_KEY = 'a38fae3bea4ef5b676279a02cacd8ca5'\n",
    "LXUDPARSER_WS_API_URL = 'https://portulanclarin.net/workbench/lx-udparser/api/'"
   ]
  },
  {
   "cell_type": "markdown",
   "metadata": {},
   "source": [
    "## Importing required Python modules\n",
    "The next cell will take care of installing the `requests` and `pydependencygrapher` packages,\n",
    "if not already installed, and make them available to use in this notebook."
   ]
  },
  {
   "cell_type": "code",
   "execution_count": 2,
   "metadata": {},
   "outputs": [],
   "source": [
    "try:\n",
    "    import requests\n",
    "except:\n",
    "    !pip3 install requests\n",
    "    import requests\n",
    "try:\n",
    "    import pydependencygrapher\n",
    "except:\n",
    "    # see https://github.com/pygobject/pycairo/issues/39#issuecomment-391830334\n",
    "    !apt-get install libcairo2-dev libjpeg-dev libgif-dev\n",
    "    !pip3 install pydependencygrapher\n",
    "    import pydependencygrapher\n",
    "\n",
    "import base64\n",
    "import IPython"
   ]
  },
  {
   "cell_type": "markdown",
   "metadata": {},
   "source": [
    "## Wrapping the complexities of the JSON-RPC API in a simple, easy to use function\n",
    "\n",
    "The `WSException` class defined below, will be used later to identify errors\n",
    "from the webservice."
   ]
  },
  {
   "cell_type": "code",
   "execution_count": 3,
   "metadata": {},
   "outputs": [],
   "source": [
    "class WSException(Exception):\n",
    "    'Webservice Exception'\n",
    "    def __init__(self, errordata):\n",
    "        \"errordata is a dict returned by the webservice with details about the error\"\n",
    "        super().__init__(self)\n",
    "        assert isinstance(errordata, dict)\n",
    "        self.message = errordata[\"message\"]\n",
    "        # see https://json-rpc.readthedocs.io/en/latest/exceptions.html for more info\n",
    "        # about JSON-RPC error codes\n",
    "        if -32099 <= errordata[\"code\"] <= -32000:  # Server Error\n",
    "            if errordata[\"data\"][\"type\"] == \"WebServiceException\":\n",
    "                self.message += f\": {errordata['data']['message']}\"\n",
    "            else:\n",
    "                self.message += f\": {errordata['data']!r}\"\n",
    "    def __str__(self):\n",
    "        return self.message"
   ]
  },
  {
   "cell_type": "markdown",
   "metadata": {},
   "source": [
    "The next function invoques the LX-UDParser webservice through it's public JSON-RPC API."
   ]
  },
  {
   "cell_type": "code",
   "execution_count": 4,
   "metadata": {},
   "outputs": [],
   "source": [
    "def parse(text, format):\n",
    "    '''\n",
    "    Arguments\n",
    "        text: a string with a maximum of 2000 characters, Portuguese text, with\n",
    "             the input to be processed\n",
    "        format: either 'CONLL' or 'JSON'\n",
    "\n",
    "    Returns a string with the output according to specification in\n",
    "       https://portulanclarin.net/workbench/lx-udparser/\n",
    "    \n",
    "    Raises a WSException if an error occurs.\n",
    "    '''\n",
    "\n",
    "    request_data = {\n",
    "        'method': 'parse',\n",
    "        'jsonrpc': '2.0',\n",
    "        'id': 0,\n",
    "        'params': {\n",
    "            'text': text,\n",
    "            'format': format,\n",
    "            'key': LXUDPARSER_WS_API_KEY,\n",
    "        },\n",
    "    }\n",
    "    request = requests.post(LXUDPARSER_WS_API_URL, json=request_data)\n",
    "    response_data = request.json()\n",
    "    if \"error\" in response_data:\n",
    "        raise WSException(response_data[\"error\"])\n",
    "    else:\n",
    "        return response_data[\"result\"]"
   ]
  },
  {
   "cell_type": "markdown",
   "metadata": {},
   "source": [
    "Let us test the function we just defined:"
   ]
  },
  {
   "cell_type": "code",
   "execution_count": 5,
   "metadata": {},
   "outputs": [
    {
     "name": "stdout",
     "output_type": "stream",
     "text": [
      "#id\tform\tlemma\tcpos\tpos\tfeat\thead\tdeprel\tphead\tpdeprel\n",
      "1\tEsta\t-\tDET\tDET\tGender=Fem|Number=Sing\t2\tdet\t2\tdet\n",
      "2\tfrase\tFRASE\tNOUN\tNOUN\tGender=Fem|Number=Sing\t3\tnsubj\t3\tnsubj\n",
      "3\tserve\tSERVIR\tVERB\tVERB\tTense=Pres|Mood=Ind|Person=3|Number=Sing\t0\troot\t0\troot\n",
      "4\tpara\t-\tADP\tADP\t-\t3\tobj\t3\tobj\n",
      "5\ttestar\tTESTAR\tVERB\tVERB\t-\t3\tdep\t3\tdep\n",
      "6\to\t-\tDET\tDET\tGender=Masc|Number=Sing\t7\tobj\t7\tobj\n",
      "7\tfuncionamento\tFUNCIONAMENTO\tNOUN\tNOUN\tGender=Masc|Number=Sing\t5\tpobj\t5\tpobj\n",
      "8\tde_\t-\tADP\tADP\t-\t7\tfixed\t7\tfixed\n",
      "9\to\t-\tDET\tDET\tGender=Masc|Number=Sing\t7\tfixed\t7\tfixed\n",
      "10\tparser\tPARSER\tNOUN\tNOUN\tGender=Masc|Number=Sing\t7\tpobj\t7\tpobj\n",
      "11\tde\t-\tADP\tADP\t-\t10\tfixed\t10\tfixed\n",
      "12\tdependências\tDEPENDÊNCIA\tNOUN\tNOUN\tGender=Fem|Number=Plur\t10\tfixed\t10\tfixed\n",
      "13\t.\t-\tPUNCT\tPUNCT\t-\t3\tpunct\t3\tpunct\n",
      "\n",
      "\n",
      "#id\tform\tlemma\tcpos\tpos\tfeat\thead\tdeprel\tphead\tpdeprel\n",
      "1\tEsta\t-\tDET\tDET\tGender=Fem|Number=Sing\t3\tdet\t3\tdet\n",
      "2\toutra\tOUTRO\tADJ\tADJ\tGender=Fem|Number=Sing\t3\tdet\t3\tdet\n",
      "3\tfrase\tFRASE\tNOUN\tNOUN\tGender=Fem|Number=Sing\t4\tnsubj\t4\tnsubj\n",
      "4\tfaz\tFAZER\tVERB\tVERB\tTense=Pres|Mood=Ind|Person=3|Number=Sing\t0\troot\t0\troot\n",
      "5\to\t-\tDET\tDET\tGender=Masc|Number=Sing\t4\tdep\t4\tdep\n",
      "6\tmesmo\tMESMO\tADJ\tADJ\tGender=Masc|Number=Sing\t5\tdep\t5\tdep\n",
      "7\t.\t-\tPUNCT\tPUNCT\t-\t4\tpunct\t4\tpunct\n",
      "\n",
      "\n"
     ]
    }
   ],
   "source": [
    "text = '''Esta frase serve para testar o funcionamento do parser de dependências. Esta outra\n",
    "frase faz o mesmo.'''\n",
    "# the CONLL annotation format is a popular format for annotating part of speech\n",
    "# and dependency tree graphs\n",
    "result = parse(text, format=\"CONLL\")\n",
    "print(result)"
   ]
  },
  {
   "cell_type": "markdown",
   "metadata": {},
   "source": [
    "## Displaying dependency tree graphs from parsed text in CONLL format\n",
    "\n",
    "To view dependency tree graphs for the parsed sentences, first we will split the CONLL output on empty lines to get one set of lines per sentence (each line carrying information pertaining to each token)."
   ]
  },
  {
   "cell_type": "code",
   "execution_count": 6,
   "metadata": {},
   "outputs": [],
   "source": [
    "def group_sentence_conll_lines(conll_lines):\n",
    "    \"\"\"Groups CONLL-encoded lines (one line encodes one token), according to sentences.\n",
    "\n",
    "    This generator function takes as argument a sequence of CONLL lines, and generates\n",
    "    a sequence of lists, each one containing the CONLL lines of a sentence\n",
    "    \"\"\"\n",
    "    parsed_sentences = []\n",
    "    current_sentence = []\n",
    "    for line in conll_lines:\n",
    "        # lines starting with # are comments; ignore\n",
    "        if line.startswith(\"#\"):\n",
    "            continue\n",
    "        # one or more consecutive empty lines mark the end of a sentence\n",
    "        if not line:\n",
    "            if current_sentence:\n",
    "                parsed_sentences.append(current_sentence)\n",
    "                current_sentence = []\n",
    "        else:\n",
    "            current_sentence.append(line)\n",
    "    if current_sentence:\n",
    "        parsed_sentences.append(current_sentence)\n",
    "    return parsed_sentences"
   ]
  },
  {
   "cell_type": "markdown",
   "metadata": {},
   "source": [
    "Let us define a function `render_tree` that displays a sentence dependency graph, making use of the `pydependencygrapher` package for rendering the graph into an image and the `IPython` package for displaying the resulting image.\n",
    "\n",
    "We also define a function `render_tree_from_conll` that will take a CONLL sentence (a list of CONLL-formatted lines, one for each token) and create one `pydependencygrapher.Token` object for each token, before calling `render_tree` to display the dependency graph."
   ]
  },
  {
   "cell_type": "code",
   "execution_count": 7,
   "metadata": {},
   "outputs": [],
   "source": [
    "def render_tree(sentence):\n",
    "    graph = pydependencygrapher.DependencyGraph(sentence, show_tags=False)\n",
    "    graph.draw()\n",
    "    b64png = graph.save_buffer()\n",
    "    IPython.display.display(IPython.display.Image(data=base64.b64decode(b64png)))\n",
    "\n",
    "def render_tree_from_conll(conll_sentence):\n",
    "    sentence = [pydependencygrapher.Token(*conll_token.split(\"\\t\")) for conll_token in conll_sentence] \n",
    "    return render_tree(sentence)"
   ]
  },
  {
   "cell_type": "code",
   "execution_count": 8,
   "metadata": {},
   "outputs": [
    {
     "data": {
      "image/png": "[encoded data removed]",
      "text/plain": [
       "<IPython.core.display.Image object>"
      ]
     },
     "metadata": {},
     "output_type": "display_data"
    },
    {
     "data": {
      "image/png": "[encoded data removed]",
      "text/plain": [
       "<IPython.core.display.Image object>"
      ]
     },
     "metadata": {},
     "output_type": "display_data"
    }
   ],
   "source": [
    "conll_lines = result.splitlines(keepends=False)\n",
    "for conll_sentence in group_sentence_conll_lines(conll_lines):\n",
    "    data = render_tree_from_conll(conll_sentence)"
   ]
  },
  {
   "cell_type": "markdown",
   "metadata": {},
   "source": [
    "## The JSON output format\n",
    "\n",
    "The JSON format (which we obtain by passing `format=\"JSON\"` into the `parse` function) is more\n",
    "convenient when we need to further process the annotations, because each abstraction is mapped\n",
    "directly into a Python native object (lists, dicts, strings, etc) as follows:\n",
    "- The returned object is a `list`, where each element corresponds to a paragraph of the given text;\n",
    "- In turn, each paragraph is a `list` where each element represents a sentence;\n",
    "- Each sentence is a `list` where each element represents a token;\n",
    "- Each token is a `dict` where each key-value pair is an attribute of the token."
   ]
  },
  {
   "cell_type": "code",
   "execution_count": 9,
   "metadata": {},
   "outputs": [
    {
     "name": "stdout",
     "output_type": "stream",
     "text": [
      "paragraph 1:\n",
      "  sentence 1:\n",
      "    token 1: {'form': 'Esta', 'space': 'LR', 'pos': 'DEM', 'upos': 'DET', 'feats': 'fs', 'ufeats': 'Gender=Fem|Number=Sing', 'udeprel': 'det', 'uparent': 2}\n",
      "    token 2: {'form': 'frase', 'space': 'LR', 'pos': 'CN', 'upos': 'NOUN', 'lemma': 'FRASE', 'ulemma': 'FRASE', 'feats': 'fs', 'ufeats': 'Gender=Fem|Number=Sing', 'udeprel': 'nsubj', 'uparent': 3}\n",
      "    token 3: {'form': 'serve', 'space': 'LR', 'pos': 'V', 'upos': 'VERB', 'lemma': 'SERVIR', 'ulemma': 'SERVIR', 'feats': 'pi-3s', 'ufeats': 'Tense=Pres|Mood=Ind|Person=3|Number=Sing', 'udeprel': 'root', 'uparent': 0}\n",
      "    token 4: {'form': 'para', 'space': 'LR', 'pos': 'PREP', 'upos': 'ADP', 'udeprel': 'obj', 'uparent': 3}\n",
      "    token 5: {'form': 'testar', 'space': 'LR', 'pos': 'V', 'upos': 'VERB', 'lemma': 'TESTAR', 'ulemma': 'TESTAR', 'feats': 'INF-nInf', 'udeprel': 'dep', 'uparent': 3}\n",
      "    token 6: {'form': 'o', 'space': 'LR', 'pos': 'DA', 'upos': 'DET', 'feats': 'ms', 'ufeats': 'Gender=Masc|Number=Sing', 'udeprel': 'obj', 'uparent': 7}\n",
      "    token 7: {'form': 'funcionamento', 'space': 'LR', 'pos': 'CN', 'upos': 'NOUN', 'lemma': 'FUNCIONAMENTO', 'ulemma': 'FUNCIONAMENTO', 'feats': 'ms', 'ufeats': 'Gender=Masc|Number=Sing', 'udeprel': 'pobj', 'uparent': 5}\n",
      "    token 8: {'form': 'de_', 'space': 'L', 'raw': 'do', 'pos': 'PREP', 'upos': 'ADP', 'udeprel': 'fixed', 'uparent': 7}\n",
      "    token 9: {'form': 'o', 'space': 'R', 'pos': 'DA', 'upos': 'DET', 'feats': 'ms', 'ufeats': 'Gender=Masc|Number=Sing', 'udeprel': 'fixed', 'uparent': 7}\n",
      "    token 10: {'form': 'parser', 'space': 'LR', 'pos': 'CN', 'upos': 'NOUN', 'lemma': 'PARSER', 'ulemma': 'PARSER', 'feats': 'ms', 'ufeats': 'Gender=Masc|Number=Sing', 'udeprel': 'pobj', 'uparent': 7}\n",
      "    token 11: {'form': 'de', 'space': 'LR', 'pos': 'PREP', 'upos': 'ADP', 'udeprel': 'fixed', 'uparent': 10}\n",
      "    token 12: {'form': 'dependências', 'space': 'L', 'pos': 'CN', 'upos': 'NOUN', 'lemma': 'DEPENDÊNCIA', 'ulemma': 'DEPENDÊNCIA', 'feats': 'fp', 'ufeats': 'Gender=Fem|Number=Plur', 'udeprel': 'fixed', 'uparent': 10}\n",
      "    token 13: {'form': '.', 'space': 'R', 'pos': 'PNT', 'upos': 'PUNCT', 'udeprel': 'punct', 'uparent': 3}\n",
      "  sentence 2:\n",
      "    token 1: {'form': 'Esta', 'space': 'LR', 'pos': 'DEM', 'upos': 'DET', 'feats': 'fs', 'ufeats': 'Gender=Fem|Number=Sing', 'udeprel': 'det', 'uparent': 3}\n",
      "    token 2: {'form': 'outra', 'space': 'LR', 'pos': 'ADJ', 'upos': 'ADJ', 'lemma': 'OUTRO', 'ulemma': 'OUTRO', 'feats': 'fs', 'ufeats': 'Gender=Fem|Number=Sing', 'udeprel': 'det', 'uparent': 3}\n",
      "    token 3: {'form': 'frase', 'space': 'LR', 'pos': 'CN', 'upos': 'NOUN', 'lemma': 'FRASE', 'ulemma': 'FRASE', 'feats': 'fs', 'ufeats': 'Gender=Fem|Number=Sing', 'udeprel': 'nsubj', 'uparent': 4}\n",
      "    token 4: {'form': 'faz', 'space': 'LR', 'pos': 'V', 'upos': 'VERB', 'lemma': 'FAZER', 'ulemma': 'FAZER', 'feats': 'pi-3s', 'ufeats': 'Tense=Pres|Mood=Ind|Person=3|Number=Sing', 'udeprel': 'root', 'uparent': 0}\n",
      "    token 5: {'form': 'o', 'space': 'LR', 'pos': 'LDEM1', 'upos': 'DET', 'ufeats': 'Gender=Masc|Number=Sing', 'udeprel': 'dep', 'uparent': 4}\n",
      "    token 6: {'form': 'mesmo', 'space': 'L', 'pos': 'LDEM2', 'upos': 'ADJ', 'ulemma': 'MESMO', 'ufeats': 'Gender=Masc|Number=Sing', 'udeprel': 'dep', 'uparent': 5}\n",
      "    token 7: {'form': '.', 'space': 'R', 'pos': 'PNT', 'upos': 'PUNCT', 'udeprel': 'punct', 'uparent': 4}\n"
     ]
    }
   ],
   "source": [
    "parsed_text = parse(text, format=\"JSON\")\n",
    "for pnum, paragraph in enumerate(parsed_text, start=1): # enumerate paragraphs in text, starting at 1\n",
    "    print(f\"paragraph {pnum}:\")\n",
    "    for snum, sentence in enumerate(paragraph, start=1): # enumerate sentences in paragraph, starting at 1\n",
    "        print(f\"  sentence {snum}:\")\n",
    "        for tnum, token in enumerate(sentence, start=1): # enumerate tokens in sentence, starting at 1\n",
    "            print(f\"    token {tnum}: {token!r}\")  # print a token representation"
   ]
  },
  {
   "cell_type": "markdown",
   "metadata": {},
   "source": [
    "## Displaying dependency graphs from parsed text in JSON format\n",
    "Let us define a function, similar to `render_tree_from_conll` to display dependency graphs for JSON-encoded sentences."
   ]
  },
  {
   "cell_type": "code",
   "execution_count": 10,
   "metadata": {},
   "outputs": [],
   "source": [
    "def render_tree_from_json(json_sentence):\n",
    "    token_attributes = [\"form\", \"lemma\", \"upos\", \"upos\", \"ufeats\", \"uparent\", \"udeprel\", \"uparent\", \"udeprel\"]\n",
    "    sentence = []\n",
    "    for num, token in enumerate(json_sentence, start=1):\n",
    "        sentence.append(\n",
    "            pydependencygrapher.Token(\n",
    "                num,\n",
    "                *[token.get(attribute, \"_\") for attribute in token_attributes]\n",
    "            )\n",
    "        )\n",
    "    return render_tree(sentence)"
   ]
  },
  {
   "cell_type": "markdown",
   "metadata": {},
   "source": [
    "Let us test the function we just defined"
   ]
  },
  {
   "cell_type": "code",
   "execution_count": 11,
   "metadata": {},
   "outputs": [
    {
     "data": {
      "image/png": "[encoded data removed]",
      "text/plain": [
       "<IPython.core.display.Image object>"
      ]
     },
     "metadata": {},
     "output_type": "display_data"
    },
    {
     "data": {
      "image/png": "[encoded data removed]",
      "text/plain": [
       "<IPython.core.display.Image object>"
      ]
     },
     "metadata": {},
     "output_type": "display_data"
    }
   ],
   "source": [
    "for paragraph in parsed_text:\n",
    "    for sentence in paragraph:\n",
    "        render_tree_from_json(sentence)"
   ]
  },
  {
   "cell_type": "markdown",
   "metadata": {},
   "source": [
    "## Getting the status of a webservice access key"
   ]
  },
  {
   "cell_type": "code",
   "execution_count": 12,
   "metadata": {},
   "outputs": [],
   "source": [
    "def get_key_status():\n",
    "    '''Returns a string with the detailed status of the webservice access key'''\n",
    "    \n",
    "    request_data = {\n",
    "        'method': 'key_status',\n",
    "        'jsonrpc': '2.0',\n",
    "        'id': 0,\n",
    "        'params': {\n",
    "            'key': LXUDPARSER_WS_API_KEY,\n",
    "        },\n",
    "    }\n",
    "    request = requests.post(LXUDPARSER_WS_API_URL, json=request_data)\n",
    "    response_data = request.json()\n",
    "    if \"error\" in response_data:\n",
    "        raise WSException(response_data[\"error\"])\n",
    "    else:\n",
    "        return response_data[\"result\"]"
   ]
  },
  {
   "cell_type": "code",
   "execution_count": 13,
   "metadata": {},
   "outputs": [
    {
     "data": {
      "text/plain": [
       "{'requests_remaining': 99989,\n",
       " 'chars_remaining': 499998825,\n",
       " 'expiry': '2022-03-05T02:12+00:00'}"
      ]
     },
     "execution_count": 13,
     "metadata": {},
     "output_type": "execute_result"
    }
   ],
   "source": [
    "get_key_status()"
   ]
  }
 ],
 "metadata": {
  "interpreter": {
   "hash": "006d5deb8e6cdcd4312641bdf15f3bc20f0769a7305d81173599a7b40f33b4a2"
  },
  "kernelspec": {
   "display_name": "Python 3.7.7 64-bit",
   "name": "python3"
  },
  "language_info": {
   "codemirror_mode": {
    "name": "ipython",
    "version": 3
   },
   "file_extension": ".py",
   "mimetype": "text/x-python",
   "name": "python",
   "nbconvert_exporter": "python",
   "pygments_lexer": "ipython3",
   "version": "3.7.7"
  }
 },
 "nbformat": 4,
 "nbformat_minor": 2
}
