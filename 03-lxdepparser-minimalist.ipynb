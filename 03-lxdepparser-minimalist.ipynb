{
  "nbformat": 4,
  "nbformat_minor": 2,
  "metadata": {
    "interpreter": {
      "hash": "006d5deb8e6cdcd4312641bdf15f3bc20f0769a7305d81173599a7b40f33b4a2"
    },
    "kernelspec": {
      "name": "python3",
      "display_name": "Python 3.7.7 64-bit"
    },
    "language_info": {
      "codemirror_mode": {
        "name": "ipython",
        "version": 3
      },
      "file_extension": ".py",
      "mimetype": "text/x-python",
      "name": "python",
      "nbconvert_exporter": "python",
      "pygments_lexer": "ipython3",
      "version": "3.7.7"
    }
  },
  "cells": [
    {
      "cell_type": "code",
      "execution_count": 2,
      "source": [
        "try:\n",
        "    import requests\n",
        "except:\n",
        "    !pip3 install requests\n",
        "    import requests\n",
        "try:\n",
        "    import pydependencygrapher\n",
        "except:\n",
        "    !apt-get install libcairo2-dev libjpeg-dev libgif-dev\n",
        "    !pip3 install pydependencygrapher\n",
        "    import pydependencygrapher\n",
        "import base64\n",
        "import IPython"
      ],
      "outputs": [],
      "metadata": {
        "id": "r2HZe4ZsEUdg",
        "outputId": "8b65b5ad-85da-4b97-faac-5e3adbe80fd6",
        "colab": {
          "base_uri": "https://localhost:8080/"
        }
      }
    },
    {
      "cell_type": "markdown",
      "source": [
        "# Using LX-DepParser to parse sentences and displaying dependency tree graphs\n",
        "This is an minimalist example notebook that illustrates how you can use the LX-DepParser web service to parse \n",
        "sentences and how to visualize dependency tree graphs in a notebook.\n",
        "\n",
        "**Before you run this example**, replace `access_key_goes_here` by your webservice access key, below:"
      ],
      "metadata": {}
    },
    {
      "cell_type": "code",
      "execution_count": 3,
      "source": [
        "request = requests.post(\n",
        "    url='https://portulanclarin.net/workbench/lx-depparser/api/',\n",
        "    json={\n",
        "        'method': 'parse',\n",
        "        'jsonrpc': '2.0',\n",
        "        'id': 0,\n",
        "        'params': {\n",
        "            'text': 'A Maria tem razão.',\n",
        "            'format': 'CONLL',\n",
        "            'tagset': 'CINTIL',\n",
        "            'key': 'access_key_goes_here'\n",
        "        },\n",
        "    },\n",
        ")\n",
        "conll = request.json()['result']\n",
        "print(conll)\n",
        "sentence = [\n",
        "    pydependencygrapher.Token(*line.split(\"\\t\"))\n",
        "    for line in conll.splitlines(keepends=False)\n",
        "    if line and not line.startswith(\"#\")\n",
        "]\n",
        "graph = pydependencygrapher.DependencyGraph(sentence)\n",
        "graph.draw()\n",
        "b64png = graph.save_buffer()\n",
        "IPython.display.display(IPython.display.Image(data=base64.b64decode(b64png)))\n"
      ],
      "outputs": [
        {
          "output_type": "stream",
          "name": "stdout",
          "text": [
            "#id\tform\tlemma\tcpos\tpos\tfeat\thead\tdeprel\tphead\tpdeprel\n",
            "1\tA\t-\tDA\tDA\tfs\t2\tSP\t2\tSP\n",
            "2\tMaria\t-\tPNM\tPNM\t-\t3\tSJ\t3\tSJ\n",
            "3\ttem\tTER\tV\tV\tpi-3s\t0\tROOT\t0\tROOT\n",
            "4\trazão\tRAZÃO\tCN\tCN\tgs\t3\tDO\t3\tDO\n",
            "5\t.\t-\tPNT\tPNT\t-\t3\tPUNCT\t3\tPUNCT\n",
            "\n",
            "\n"
          ]
        },
        {
          "output_type": "display_data",
          "data": {
            "image/png": "[encoded data removed]",
            "text/plain": [
              "<IPython.core.display.Image object>"
            ]
          },
          "metadata": {}
        }
      ],
      "metadata": {
        "id": "mDiAmtPcMzGD",
        "outputId": "3b7494d0-1f81-4196-94f6-b24651e6d0ad",
        "colab": {
          "base_uri": "https://localhost:8080/",
          "height": 296
        }
      }
    }
  ]
}
